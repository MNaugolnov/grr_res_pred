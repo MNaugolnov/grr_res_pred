{
 "cells": [
  {
   "cell_type": "markdown",
   "metadata": {},
   "source": [
    "# Reservoir prediction demo notebook"
   ]
  },
  {
   "cell_type": "markdown",
   "metadata": {},
   "source": [
    "#### Import file with all auxilliary functions \n",
    "\n",
    "src file contains all functions needed for execution. \n"
   ]
  },
  {
   "cell_type": "code",
   "execution_count": 1,
   "metadata": {},
   "outputs": [],
   "source": [
    "import source as src"
   ]
  },
  {
   "cell_type": "markdown",
   "metadata": {},
   "source": [
    "## Specify parameters \n",
    "Necessary parameters are here specified.\n",
    "- *training_data_path* is path to well data, which represents the training set;\n",
    "- *test_data_path* is path to attributes folder, which represents the test set;\n",
    "- *number_of_configurations* is number of created model configurations. Choice of this value is a trade-off between model quality and stability, and training time. Estimated training time for N model configurations is around N / 2000 minutes;\n",
    "- *predictions_folder_path* is path to folder where all results will be stored.\n",
    "\n",
    "Note: Attributes provided in training data **must** be the same as in test folder.\n",
    "\n",
    "*src.build_config* takes these parameters as input, and specifies all other parameters that algorithm uses."
   ]
  },
  {
   "cell_type": "code",
   "execution_count": 5,
   "metadata": {},
   "outputs": [],
   "source": [
    "training_data_path =  \"points_seismic_attributes_18092020_shuffled.csv\"\n",
    "test_data_path = \"all_attributes_merged.csv\"\n",
    "number_of_configurations = 50000\n",
    "predictions_folder_path = \"predictions/\"\n",
    "\n",
    "conf = src.build_config(training_data_path = training_data_path, test_data_path = test_data_path,\n",
    "                        number_of_configurations = number_of_configurations, predictions_folder_path = predictions_folder_path)"
   ]
  },
  {
   "cell_type": "markdown",
   "metadata": {},
   "source": [
    "## Training phase\n",
    "Training phase takes well data as input, creates XGBoost configurations, filters optimal configurations and predicts mean Hef, p10 Hef, p50 Hef and p90 Hef for well points.\n",
    "\n",
    "Cross plot between real and predicted Hef values is provided."
   ]
  },
  {
   "cell_type": "code",
   "execution_count": 8,
   "metadata": {
    "scrolled": true
   },
   "outputs": [
    {
     "name": "stdout",
     "output_type": "stream",
     "text": [
      "50000 / 50000 model configurations created, please wait...\n",
      "50000 model configurations created.\n"
     ]
    }
   ],
   "source": [
    "src.create_configurations(training_data_path = training_data_path, conf = conf)\n"
   ]
  },
  {
   "cell_type": "code",
   "execution_count": 48,
   "metadata": {},
   "outputs": [],
   "source": [
    "optimal = src.select_optimal_configurations(training_data_path = training_data_path, conf = conf)"
   ]
  },
  {
   "cell_type": "markdown",
   "metadata": {},
   "source": [
    "#### MSE and R-squared\n",
    "Output of this phase are also mean squared error and R-squared coefficient for mean optimal model."
   ]
  },
  {
   "cell_type": "code",
   "execution_count": 23,
   "metadata": {},
   "outputs": [
    {
     "name": "stdout",
     "output_type": "stream",
     "text": [
      "Mean squared error on training set is 10.328555346641183. Mean squared error on validation set is 32.27390322836693.\n",
      "R-squared coefficient on training set is 0.9451583991277018. R-squared coefficient on validation set is 0.8644360084687484.\n",
      "Total mean squared error is 16.313650223475477. Total R-squared coefficient is 0.9192340062592239.\n"
     ]
    }
   ],
   "source": [
    "src.print_training_results(optimal)"
   ]
  },
  {
   "cell_type": "markdown",
   "metadata": {},
   "source": [
    "#### Feature importance\n",
    "Following pie plot displays importance of most valuable features provided as input."
   ]
  },
  {
   "cell_type": "code",
   "execution_count": 50,
   "metadata": {},
   "outputs": [],
   "source": [
    "src.plot_feature_importance(conf)"
   ]
  },
  {
   "cell_type": "code",
   "execution_count": 52,
   "metadata": {},
   "outputs": [],
   "source": [
    "src.plot_grouped_feature_importance(conf)"
   ]
  },
  {
   "cell_type": "markdown",
   "metadata": {},
   "source": [
    "## Test phase\n",
    "In test phase, model is used to predict Hef values on whole attribute maps, specified in test_data_path parameter. "
   ]
  },
  {
   "cell_type": "code",
   "execution_count": 56,
   "metadata": {},
   "outputs": [],
   "source": [
    "src.predict_on_test_data(test_data_path = test_data_path, \n",
    "                         training_data_path = training_data_path,\n",
    "                         conf = conf)"
   ]
  },
  {
   "cell_type": "markdown",
   "metadata": {},
   "source": [
    "#### Map conversion\n",
    "Predicted maps are now converted to.irap format. Paths to .irap files are provided below."
   ]
  },
  {
   "cell_type": "code",
   "execution_count": 9,
   "metadata": {},
   "outputs": [
    {
     "name": "stdout",
     "output_type": "stream",
     "text": [
      "P10 prediction map is saved to predictions/Hef_prediction_p10_irap_50k_no_pca_new_val_set_linear.txt.\n",
      "P50 prediction map is saved to predictions/Hef_prediction_p50_irap_50k_no_pca_new_val_set_linear.txt.\n",
      "P90 prediction map is saved to predictions/Hef_prediction_p90_irap_50k_no_pca_new_val_set_linear.txt.\n"
     ]
    }
   ],
   "source": [
    "src.convert_prediction_to_map(conf = conf)\n",
    "    \n",
    "src.map_postprocessing(attribute_path = conf['prediction_map_path_p10'])\n",
    "src.map_postprocessing(attribute_path = conf['prediction_map_path_p50'])\n",
    "src.map_postprocessing(attribute_path = conf['prediction_map_path_p90'])\n",
    "    \n",
    "\n",
    "src.save_irap_file(prediction_map_path = conf['prediction_map_path_p10'],\n",
    "                   prediction_irap_path = conf['prediction_irap_path_p10'])\n",
    "src.save_irap_file(prediction_map_path = conf['prediction_map_path_p50'],\n",
    "                   prediction_irap_path = conf['prediction_irap_path_p50'])\n",
    "src.save_irap_file(prediction_map_path = conf['prediction_map_path_p90'],\n",
    "                   prediction_irap_path = conf['prediction_irap_path_p90'])\n",
    "    \n",
    "src.map_postprocessing(attribute_path = conf['prediction_irap_path_p10'])\n",
    "src.map_postprocessing(attribute_path = conf['prediction_irap_path_p50'])\n",
    "src.map_postprocessing(attribute_path = conf['prediction_irap_path_p90'])\n",
    "\n",
    "print(\"P10 prediction map is saved to \" + conf[\"prediction_irap_path_p10\"] + \".\")\n",
    "print(\"P50 prediction map is saved to \" + conf[\"prediction_irap_path_p50\"] + \".\")\n",
    "print(\"P90 prediction map is saved to \" + conf[\"prediction_irap_path_p90\"] + \".\")"
   ]
  },
  {
   "cell_type": "markdown",
   "metadata": {},
   "source": [
    "#### Map plotting\n",
    "P90, P50 and P10 maps are plotted out.\n",
    "Each map can be zoomed in by selecting rectangle to be zoomed. Zoom out can be performed by double click on the image. Pan button (upper right) allows user to browse throughout the map. Mouse hovering over each point shows information about predicted value of Hef. Hovering over wells (black points) gives information about each well.\n",
    "Each plot can be downloaded in .png format via Download plot as a png button (upper right)."
   ]
  },
  {
   "cell_type": "code",
   "execution_count": 58,
   "metadata": {},
   "outputs": [],
   "source": [
    "src.partial_irap_plot(map_id = \"Htot\", conf = conf)"
   ]
  },
  {
   "cell_type": "code",
   "execution_count": 46,
   "metadata": {},
   "outputs": [],
   "source": [
    "src.partial_irap_plot(map_id = 'p90', conf = conf, limits = [440440, 452700, 5070300, 5077600])"
   ]
  },
  {
   "cell_type": "code",
   "execution_count": 34,
   "metadata": {},
   "outputs": [],
   "source": [
    "src.partial_irap_plot(map_id = 'p90', conf = conf)"
   ]
  },
  {
   "cell_type": "code",
   "execution_count": 38,
   "metadata": {},
   "outputs": [],
   "source": [
    "src.partial_irap_plot(map_id = 'p50', conf = conf, limits = [440440, 452700, 5070300, 5077600])"
   ]
  },
  {
   "cell_type": "code",
   "execution_count": 44,
   "metadata": {},
   "outputs": [],
   "source": [
    "src.partial_irap_plot(map_id = 'p50', conf = conf)"
   ]
  },
  {
   "cell_type": "code",
   "execution_count": 40,
   "metadata": {},
   "outputs": [],
   "source": [
    "src.partial_irap_plot(map_id = 'p10', conf = conf, limits = [440440, 452700, 5070300, 5077600])"
   ]
  },
  {
   "cell_type": "code",
   "execution_count": 42,
   "metadata": {},
   "outputs": [],
   "source": [
    "src.partial_irap_plot(map_id = 'p10', conf = conf)"
   ]
  },
  {
   "cell_type": "markdown",
   "metadata": {},
   "source": [
    "#### NTG and Hef distributions\n",
    "Histograms below show predicted NTG (left) and Hef (right) distributions"
   ]
  },
  {
   "cell_type": "code",
   "execution_count": 60,
   "metadata": {},
   "outputs": [],
   "source": [
    "src.draw_hef_ntg_distributions(conf = conf)"
   ]
  },
  {
   "cell_type": "code",
   "execution_count": null,
   "metadata": {},
   "outputs": [],
   "source": []
  }
 ],
 "metadata": {
  "kernelspec": {
   "display_name": "Python 3 (ipykernel)",
   "language": "python",
   "name": "python3"
  },
  "language_info": {
   "codemirror_mode": {
    "name": "ipython",
    "version": 3
   },
   "file_extension": ".py",
   "mimetype": "text/x-python",
   "name": "python",
   "nbconvert_exporter": "python",
   "pygments_lexer": "ipython3",
   "version": "3.12.7"
  }
 },
 "nbformat": 4,
 "nbformat_minor": 4
}
